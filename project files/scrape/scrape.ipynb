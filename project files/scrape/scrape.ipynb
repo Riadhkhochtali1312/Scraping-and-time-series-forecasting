{
 "cells": [
  {
   "cell_type": "markdown",
   "metadata": {},
   "source": [
    "## imports and librairies"
   ]
  },
  {
   "cell_type": "code",
   "execution_count": null,
   "metadata": {},
   "outputs": [],
   "source": [
    "import pandas as pd\n",
    "import lxml\n",
    "from bs4 import BeautifulSoup\n",
    "import requests\n",
    "from selenium import webdriver\n",
    "from selenium.webdriver import ActionChains\n",
    "from selenium.common.exceptions import NoSuchElementException\n",
    "\n",
    "from selenium.webdriver.support.ui import WebDriverWait\n",
    "from selenium.webdriver.common.by import By\n",
    "from selenium.webdriver.support import expected_conditions as EC\n",
    "from selenium.common.exceptions import StaleElementReferenceException\n",
    "from selenium.common.exceptions import TimeoutException\n",
    "from selenium.common.exceptions import ElementNotInteractableException\n",
    "\n",
    "import time\n",
    "from math import nan, isnan\n",
    "from contextlib import suppress\n",
    "from selenium.webdriver.firefox.options import Options\n",
    "\n",
    "\n",
    "\n",
    "\n",
    "\n"
   ]
  },
  {
   "cell_type": "markdown",
   "metadata": {},
   "source": [
    "# URL and driver initialization"
   ]
  },
  {
   "cell_type": "code",
   "execution_count": null,
   "metadata": {},
   "outputs": [],
   "source": [
    "url = 'https://www.bct.gov.tn/bct/siteprod/Tunibor_archive.jsp'\n",
    "req = requests.get(url, headers={\"Content-Type\": \"text\"})\n",
    "#path = \"C:\\Program Files (x86)\\chromedriver.exe\"\n",
    "driver = webdriver.Chrome(executable_path=r\"C:\\Program Files (x86)\\chromedriver.exe\")\n",
    "options = Options()\n",
    "#options.headless = False\n",
    "#driver = webdriver.Firefox(executable_path=r\"C:\\Program Files (x86)\\geckodriver.exe\")\n",
    "driver.get(\"https://www.bct.gov.tn/bct/siteprod/Tunibor_archive.jsp\")\n",
    "driver.maximize_window()"
   ]
  },
  {
   "cell_type": "markdown",
   "metadata": {},
   "source": [
    "## Creating the function that clicks on the calendar"
   ]
  },
  {
   "cell_type": "raw",
   "metadata": {},
   "source": [
    "def click_cal():\n",
    "        elemnt = WebDriverWait(driver, 10).until(EC.element_to_be_clickable((By.CSS_SELECTOR, '#f_trigger_c'))).click()\n",
    "        #alert =  WebDriverWait(driver, 10).until(EC.alert_is_present());\n",
    "        #alert.accept();\n",
    "        "
   ]
  },
  {
   "cell_type": "code",
   "execution_count": null,
   "metadata": {},
   "outputs": [],
   "source": [
    "def click_btn(x):\n",
    "    a=driver.find_element(By.CSS_SELECTOR,x)\n",
    "    \n",
    "    \n",
    "\n",
    "    ActionChains(driver).click(a).perform()\n",
    "    "
   ]
  },
  {
   "cell_type": "markdown",
   "metadata": {},
   "source": [
    "## creating the function that clicks on the \"OK\" button after selecting the date"
   ]
  },
  {
   "cell_type": "code",
   "execution_count": null,
   "metadata": {},
   "outputs": [],
   "source": [
    "def click_ok():\n",
    "     WebDriverWait(driver, 10).until(\n",
    "        EC.element_to_be_clickable((By.CSS_SELECTOR, '#output > div > div:nth-child(1) > form > p > span:nth-child(2) > input.button1'))).click()"
   ]
  },
  {
   "cell_type": "markdown",
   "metadata": {},
   "source": [
    "## creating the function that moves to the next month "
   ]
  },
  {
   "cell_type": "code",
   "execution_count": null,
   "metadata": {},
   "outputs": [],
   "source": [
    "def click_next_month(x):\n",
    "    a='#bct > div > table > thead > tr.headrow > td:nth-child(2) > div'\n",
    "    click_cal()\n",
    "    for i in range(x):\n",
    "        if(check_exists_by_css_selector(a)):\n",
    "            \n",
    "            b=driver.find_element(By.CSS_SELECTOR,a)\n",
    "            ActionChains(driver).click(b).perform()\n",
    "            \n",
    "        else:\n",
    "            break"
   ]
  },
  {
   "cell_type": "code",
   "execution_count": null,
   "metadata": {},
   "outputs": [],
   "source": [
    "def check_exists_by_css_selector(selector):\n",
    "    try:\n",
    "        driver.find_element(By.CSS_SELECTOR,selector)\n",
    "    except NoSuchElementException:\n",
    "        return False\n",
    "    return True"
   ]
  },
  {
   "cell_type": "markdown",
   "metadata": {},
   "source": [
    "## creating the function that verifies if the web element exists by its CSS selector "
   ]
  },
  {
   "cell_type": "code",
   "execution_count": null,
   "metadata": {},
   "outputs": [],
   "source": [
    "def check_exists(selector):\n",
    "    try:\n",
    "        driver.find_element(By.CSS_SELECTOR,selector)\n",
    "    except ElementNotInteractableException:\n",
    "            return False\n",
    "    return True"
   ]
  },
  {
   "cell_type": "code",
   "execution_count": null,
   "metadata": {},
   "outputs": [],
   "source": [
    "list_dates = []\n",
    "\n",
    "\n",
    "\n",
    "\n",
    "tunibor = WebDriverWait(driver, 10).until(\n",
    "    EC.element_to_be_clickable((By.XPATH, '//*[@id=\"cours_archiv\"]/div/div/div/center[2]/div/table'))).get_attribute(\n",
    "    \"outerHTML\")\n",
    "\n",
    "\n",
    "z=5\n",
    "\n",
    "full_list=[]\n",
    "\n"
   ]
  },
  {
   "cell_type": "code",
   "execution_count": null,
   "metadata": {},
   "outputs": [],
   "source": [
    "def scrape():\n",
    "    dataframe=pd.DataFrame()\n",
    "    for y in range(1,6):\n",
    "        for x in range(1,8):\n",
    "            try:\n",
    "                click_cal()\n",
    "                aa='/html/body/div/table/tbody/tr['+str(y)+']/td['+str(x)+']'\n",
    "                l = list(range(1, 50))\n",
    "                a='#bct > div> table > tbody > tr:nth-child('+str(y)+') > td:nth-child('+str(x)+')'\n",
    "                if (check_exists_by_css_selector(a)):\n",
    "                    z=click_btn(a)\n",
    "                    dates=driver.find_element(By.XPATH,'//*[@id=\"f_date_c\"]').get_attribute('value')\n",
    "                    click_ok()\n",
    "                    time.sleep(3)\n",
    "                    table2 = WebDriverWait(driver, 3).until(EC.visibility_of_element_located(\n",
    "                        (By.XPATH, '//*[@id=\"cours_archiv\"]/div/div/div/center[2]/div/table'))).get_attribute(\"outerHTML\")\n",
    "\n",
    "                    df = pd.read_html(table2)\n",
    "              \n",
    "                    dataf = pd.concat(df, axis=0, ignore_index=True)\n",
    "                    dataf = dataf.T\n",
    "                    dataf['date'] = dates\n",
    "\n",
    "\n",
    "                    dataframe = dataframe.append(dataf)\n",
    "\n",
    "                    dataframe_transposed = dataframe.T\n",
    "                \n",
    "                    datacsv = dataframe.to_csv(r'C:\\test\\tunibor.csv', index=False,sep=';')\n",
    "        \n",
    "            except TimeoutException:\n",
    "                continue\n",
    "    click_next_month(1)\n",
    "                "
   ]
  },
  {
   "cell_type": "code",
   "execution_count": null,
   "metadata": {},
   "outputs": [],
   "source": [
    "def scrape2():\n",
    "    dataframe=pd.DataFrame()\n",
    "    for y in range(3,6):\n",
    "        for x in range(5,8):\n",
    "            try:\n",
    "                driver.refresh()\n",
    "                click_next_month(1)\n",
    "                click_cal()\n",
    "                aa='/html/body/div/table/tbody/tr['+str(y)+']/td['+str(x)+']'\n",
    "                l = list(range(1, 50))\n",
    "                a='#bct > div> table > tbody > tr:nth-child('+str(y)+') > td:nth-child('+str(x)+')'\n",
    "                if (check_exists_by_css_selector(a)):\n",
    "                    z=click_btn(a)\n",
    "                    dates=driver.find_element(By.XPATH,'//*[@id=\"f_date_c\"]').get_attribute('value')\n",
    "                    click_ok()\n",
    "                    time.sleep(3)\n",
    "                    table2 = WebDriverWait(driver, 3).until(EC.visibility_of_element_located(\n",
    "                        (By.XPATH, '//*[@id=\"cours_archiv\"]/div/div/div/center[2]/div/table'))).get_attribute(\"outerHTML\")\n",
    "\n",
    "                    df = pd.read_html(table2)\n",
    "              \n",
    "                    dataf = pd.concat(df, axis=0, ignore_index=True)\n",
    "                    dataf = dataf.T\n",
    "                    dataf['date'] = dates\n",
    "\n",
    "\n",
    "                    dataframe = dataframe.append(dataf)\n",
    "\n",
    "                    dataframe_transposed = dataframe.T\n",
    "                \n",
    "                    datacsv = dataframe.to_csv(r'C:\\test\\tunibor.csv', index=False,sep=';')\n",
    "        \n",
    "            except TimeoutException:\n",
    "                continue\n",
    "    click_next_month(1)\n",
    "                "
   ]
  },
  {
   "cell_type": "markdown",
   "metadata": {},
   "source": [
    "## browsing a whole year "
   ]
  },
  {
   "cell_type": "code",
   "execution_count": null,
   "metadata": {},
   "outputs": [],
   "source": [
    "\n",
    "\n",
    "def browse(y):\n",
    "    dataframe=pd.DataFrame()\n",
    "    a=0\n",
    "   \n",
    "    while y<=5:\n",
    "        for x in range(1,8):\n",
    "            try:\n",
    "                u='#bct >div>table >tbody>tr:nth-child({})> td:nth-child({})'.format(y,x)\n",
    "           \n",
    "                click_cal()\n",
    "                #text=WebDriverWait(driver,10).until(\n",
    "        #EC.visibility_of_element_located((By.CSS_SELECTOR,u))).text\n",
    "            \n",
    "                classs=WebDriverWait(driver,10).until(\n",
    "        EC.presence_of_element_located((By.CSS_SELECTOR,u))).get_attribute(\"class\")\n",
    "            \n",
    "                #go=WebDriverWait(driver,10).until(\n",
    "        #EC.presence_of_element_located((By.CSS_SELECTOR,'#bct > div.calendar > table > thead > tr.headrow > td:nth-child(4)'))).click()\n",
    "                \n",
    "           \n",
    "            \n",
    "            \n",
    "                day = driver.find_element(By.CSS_SELECTOR, u)\n",
    "                time.sleep(5)\n",
    "                day.click()\n",
    "                dates=driver.find_element(By.XPATH,'//*[@id=\"f_date_c\"]').get_attribute('value')\n",
    "           \n",
    "                click_ok()\n",
    "            \n",
    "            \n",
    "                if classs!=\"day\":\n",
    "                    continue\n",
    "            \n",
    "                response = requests.get(url)\n",
    "                soup = BeautifulSoup(response.text, \"html.parser\")\n",
    "            \n",
    "                table = soup.find(id=\"cours_archiv\")\n",
    "\n",
    "            #response = requests.post('https://www.bct.gov.tn/bct/siteprod/Tunibor_archive.jsp')\n",
    "\n",
    "                table2 = WebDriverWait(driver, 3).until(EC.visibility_of_element_located(\n",
    "                    (By.XPATH, '//*[@id=\"cours_archiv\"]/div/div/div/center[2]/div/table'))).get_attribute(\"outerHTML\")\n",
    "\n",
    "                df = pd.read_html(table2)\n",
    "                \n",
    "                dataf = pd.concat(df, axis=0, ignore_index=True)\n",
    "                dataf = dataf.T\n",
    "                dataf['date'] = dates\n",
    "\n",
    "\n",
    "                dataframe = dataframe.append(dataf)\n",
    "\n",
    "                dataframe_transposed = dataframe.T\n",
    "                \n",
    "                datacsv = dataframe.to_csv(r'C:\\test\\tunibor.csv', index=False,sep=';')\n",
    "                print(dates)\n",
    "                if y==5 and x==3:\n",
    "                    break\n",
    "            except (TimeoutException,ElementNotInteractableException):\n",
    "                print(\"emptycell\")\n",
    "                continue\n",
    "                \n",
    "            \n",
    "            \n",
    "            \n",
    "        y=y+1\n",
    "        \n",
    "        \n",
    "                \n",
    "            \n",
    "    # full_list.append(df)\n",
    "    \n",
    "           \n",
    "               \n",
    "         \n",
    "  \n",
    "                \n",
    "time.sleep(5)"
   ]
  },
  {
   "cell_type": "code",
   "execution_count": null,
   "metadata": {},
   "outputs": [],
   "source": [
    "\n",
    "browse(1)\n",
    "\n",
    "\n"
   ]
  }
 ],
 "metadata": {
  "kernelspec": {
   "display_name": "Python 3",
   "language": "python",
   "name": "python3"
  },
  "language_info": {
   "codemirror_mode": {
    "name": "ipython",
    "version": 3
   },
   "file_extension": ".py",
   "mimetype": "text/x-python",
   "name": "python",
   "nbconvert_exporter": "python",
   "pygments_lexer": "ipython3",
   "version": "3.8.5"
  }
 },
 "nbformat": 4,
 "nbformat_minor": 4
}
